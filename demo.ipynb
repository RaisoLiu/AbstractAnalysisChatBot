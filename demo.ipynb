{
 "cells": [
  {
   "cell_type": "code",
   "execution_count": 1,
   "id": "db6ee716-44e9-4491-9cae-de6619ab2fbd",
   "metadata": {},
   "outputs": [],
   "source": [
    "# 載入paper.py文件中的PaperAnalyzer類\n",
    "from paper import PaperAnalyzer\n",
    "\n",
    "CHATGPT_API_TOKEN = 'YOUR_CHATGPT_API_TOKEN'\n",
    "HACKMD_API_TOKEN = 'YOUR_HACKMD_API_TOKEN'\n",
    "\n",
    "# 初始化PaperAnalyzer類，並提供您的API密鑰\n",
    "analyzer = PaperAnalyzer(chatgpt_api_token=CHATGPT_API_TOKEN, hackmd_api_token=HACKMD_API_TOKEN)"
   ]
  },
  {
   "cell_type": "code",
   "execution_count": 2,
   "id": "37dd90c9-4f23-47f9-997e-79694ecb60d4",
   "metadata": {},
   "outputs": [],
   "source": [
    "# 提供要分析的論文的標題和摘要\n",
    "title = '''Catalyzing next-generation Artificial Intelligence through NeuroAI'''\n",
    "abstract = '''Neuroscience has long been an essential driver of progress in artificial intelligence (AI). We propose that to accelerate progress in AI, we must invest in fundamental research in NeuroAI. A core component of this is the embodied Turing test, which challenges AI animal models to interact with the sensorimotor world at skill levels akin to their living counterparts. The embodied Turing test shifts the focus from those capabilities like game playing and language that are especially well-developed or uniquely human to those capabilities – inherited from over 500 million years of evolution – that are shared with all animals. Building models that can pass the embodied Turing test will provide a roadmap for the next generation of AI.'''"
   ]
  },
  {
   "cell_type": "code",
   "execution_count": 3,
   "id": "12f98942-75b9-4aa5-933e-c213a31ddfbd",
   "metadata": {
    "tags": []
   },
   "outputs": [
    {
     "name": "stdout",
     "output_type": "stream",
     "text": [
      "https://hackmd.io/@raiso/SkT3CCYrh\n"
     ]
    }
   ],
   "source": [
    "# 使用PaperAnalyzer分析摘要\n",
    "link = analyzer.analyze_abstract(title, abstract)\n",
    "\n",
    "# 獲取HackMD頁面的連結\n",
    "print(link)"
   ]
  }
 ],
 "metadata": {
  "kernelspec": {
   "display_name": "Python 3 (ipykernel)",
   "language": "python",
   "name": "python3"
  },
  "language_info": {
   "codemirror_mode": {
    "name": "ipython",
    "version": 3
   },
   "file_extension": ".py",
   "mimetype": "text/x-python",
   "name": "python",
   "nbconvert_exporter": "python",
   "pygments_lexer": "ipython3",
   "version": "3.10.9"
  }
 },
 "nbformat": 4,
 "nbformat_minor": 5
}
